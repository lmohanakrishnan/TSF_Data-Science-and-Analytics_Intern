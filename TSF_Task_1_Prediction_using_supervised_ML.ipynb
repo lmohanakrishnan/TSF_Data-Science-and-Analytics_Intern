{
  "nbformat": 4,
  "nbformat_minor": 0,
  "metadata": {
    "colab": {
      "name": "TSF-Task-1-Prediction using supervised ML.ipynb",
      "provenance": [],
      "collapsed_sections": [],
      "toc_visible": true,
      "authorship_tag": "ABX9TyMlPzEQ5kQ1kHichvDPNdk0",
      "include_colab_link": true
    },
    "kernelspec": {
      "name": "python3",
      "display_name": "Python 3"
    },
    "language_info": {
      "name": "python"
    }
  },
  "cells": [
    {
      "cell_type": "markdown",
      "metadata": {
        "id": "view-in-github",
        "colab_type": "text"
      },
      "source": [
        "<a href=\"https://colab.research.google.com/github/lmohanakrishnan/TSF_Data-Science-and-Analytics_Intern/blob/main/TSF_Task_1_Prediction_using_supervised_ML.ipynb\" target=\"_parent\"><img src=\"https://colab.research.google.com/assets/colab-badge.svg\" alt=\"Open In Colab\"/></a>"
      ]
    },
    {
      "cell_type": "markdown",
      "metadata": {
        "id": "BVLjd6x57zT4"
      },
      "source": [
        "**The SparksFoundation- GRIP internship Nov2021**\n",
        "\n",
        "Task-1-Prediction using supervised ML\n",
        "\n",
        "**Requirement**\n",
        "\n",
        "***What will be predicted score if a student studies for 9.25 hrs/day?***\n",
        "\n",
        "Executed by: Lakshita Mohanakrishnan"
      ]
    },
    {
      "cell_type": "markdown",
      "metadata": {
        "id": "TCTI-IZLw8sz"
      },
      "source": [
        "#Import necessary libraries for analysis"
      ]
    },
    {
      "cell_type": "code",
      "metadata": {
        "id": "-ooStfeFUu0T"
      },
      "source": [
        "#Importing necessary libraries for Analysis\n",
        "import numpy as np\n",
        "import pandas as pd\n",
        "import seaborn as sns\n",
        "\n",
        "import matplotlib.pyplot as plt\n",
        "\n",
        "%matplotlib inline\n",
        "from sklearn.model_selection import train_test_split\n",
        "from sklearn.linear_model import LinearRegression\n",
        "from sklearn import metrics\n",
        "from sklearn.externals import joblib\n",
        "import warnings\n",
        "warnings.filterwarnings(\"ignore\")"
      ],
      "execution_count": null,
      "outputs": []
    },
    {
      "cell_type": "markdown",
      "metadata": {
        "id": "Xvtey5d0xJfZ"
      },
      "source": [
        "# Read data"
      ]
    },
    {
      "cell_type": "code",
      "metadata": {
        "colab": {
          "base_uri": "https://localhost:8080/",
          "height": 204
        },
        "id": "6K8-Bl5bWTBW",
        "outputId": "f6062d0c-1e0a-458d-bd28-07bfc228db64"
      },
      "source": [
        "url=\"http://bit.ly/w-data\"\n",
        "data=pd.read_csv(url)\n",
        "data.head()"
      ],
      "execution_count": null,
      "outputs": [
        {
          "output_type": "execute_result",
          "data": {
            "text/html": [
              "<div>\n",
              "<style scoped>\n",
              "    .dataframe tbody tr th:only-of-type {\n",
              "        vertical-align: middle;\n",
              "    }\n",
              "\n",
              "    .dataframe tbody tr th {\n",
              "        vertical-align: top;\n",
              "    }\n",
              "\n",
              "    .dataframe thead th {\n",
              "        text-align: right;\n",
              "    }\n",
              "</style>\n",
              "<table border=\"1\" class=\"dataframe\">\n",
              "  <thead>\n",
              "    <tr style=\"text-align: right;\">\n",
              "      <th></th>\n",
              "      <th>Hours</th>\n",
              "      <th>Scores</th>\n",
              "    </tr>\n",
              "  </thead>\n",
              "  <tbody>\n",
              "    <tr>\n",
              "      <th>0</th>\n",
              "      <td>2.5</td>\n",
              "      <td>21</td>\n",
              "    </tr>\n",
              "    <tr>\n",
              "      <th>1</th>\n",
              "      <td>5.1</td>\n",
              "      <td>47</td>\n",
              "    </tr>\n",
              "    <tr>\n",
              "      <th>2</th>\n",
              "      <td>3.2</td>\n",
              "      <td>27</td>\n",
              "    </tr>\n",
              "    <tr>\n",
              "      <th>3</th>\n",
              "      <td>8.5</td>\n",
              "      <td>75</td>\n",
              "    </tr>\n",
              "    <tr>\n",
              "      <th>4</th>\n",
              "      <td>3.5</td>\n",
              "      <td>30</td>\n",
              "    </tr>\n",
              "  </tbody>\n",
              "</table>\n",
              "</div>"
            ],
            "text/plain": [
              "   Hours  Scores\n",
              "0    2.5      21\n",
              "1    5.1      47\n",
              "2    3.2      27\n",
              "3    8.5      75\n",
              "4    3.5      30"
            ]
          },
          "metadata": {},
          "execution_count": 9
        }
      ]
    },
    {
      "cell_type": "code",
      "metadata": {
        "colab": {
          "base_uri": "https://localhost:8080/"
        },
        "id": "aQG3cRqoWYJ-",
        "outputId": "a8e745ca-831c-4c77-c296-8bafb75ed3e9"
      },
      "source": [
        "data.info()"
      ],
      "execution_count": null,
      "outputs": [
        {
          "output_type": "stream",
          "name": "stdout",
          "text": [
            "<class 'pandas.core.frame.DataFrame'>\n",
            "RangeIndex: 25 entries, 0 to 24\n",
            "Data columns (total 2 columns):\n",
            " #   Column  Non-Null Count  Dtype  \n",
            "---  ------  --------------  -----  \n",
            " 0   Hours   25 non-null     float64\n",
            " 1   Scores  25 non-null     int64  \n",
            "dtypes: float64(1), int64(1)\n",
            "memory usage: 528.0 bytes\n"
          ]
        }
      ]
    },
    {
      "cell_type": "markdown",
      "metadata": {
        "id": "85Et8RTkZdB_"
      },
      "source": [
        "**Check for null values**"
      ]
    },
    {
      "cell_type": "code",
      "metadata": {
        "colab": {
          "base_uri": "https://localhost:8080/"
        },
        "id": "UtkB9tqaZdhH",
        "outputId": "5c455d79-56a0-46f4-d0a7-9d9e45cc071d"
      },
      "source": [
        "data.isnull().sum()"
      ],
      "execution_count": null,
      "outputs": [
        {
          "output_type": "execute_result",
          "data": {
            "text/plain": [
              "Hours     0\n",
              "Scores    0\n",
              "dtype: int64"
            ]
          },
          "metadata": {},
          "execution_count": 11
        }
      ]
    },
    {
      "cell_type": "markdown",
      "metadata": {
        "id": "WmwWytN1ZxVW"
      },
      "source": [
        "**Check for duplicate values**"
      ]
    },
    {
      "cell_type": "code",
      "metadata": {
        "colab": {
          "base_uri": "https://localhost:8080/"
        },
        "id": "Tc7csWsKZwiu",
        "outputId": "eccbd3c1-3931-4907-fc3e-c92ce8f8358e"
      },
      "source": [
        "rmv_dup=data.duplicated()\n",
        "print('No. of Duplicates:'+ str(rmv_dup.sum))"
      ],
      "execution_count": null,
      "outputs": [
        {
          "output_type": "stream",
          "name": "stdout",
          "text": [
            "No. of Duplicates:<bound method Series.sum of 0     False\n",
            "1     False\n",
            "2     False\n",
            "3     False\n",
            "4     False\n",
            "5     False\n",
            "6     False\n",
            "7     False\n",
            "8     False\n",
            "9     False\n",
            "10    False\n",
            "11    False\n",
            "12    False\n",
            "13    False\n",
            "14    False\n",
            "15    False\n",
            "16    False\n",
            "17    False\n",
            "18    False\n",
            "19    False\n",
            "20    False\n",
            "21    False\n",
            "22    False\n",
            "23    False\n",
            "24    False\n",
            "dtype: bool>\n"
          ]
        }
      ]
    },
    {
      "cell_type": "markdown",
      "metadata": {
        "id": "GWgH3Fr-aC6W"
      },
      "source": [
        "**Statistics summary**"
      ]
    },
    {
      "cell_type": "code",
      "metadata": {
        "colab": {
          "base_uri": "https://localhost:8080/",
          "height": 297
        },
        "id": "UAeIRcqPaDZG",
        "outputId": "9f33e75f-ecdb-4af6-801b-d6ecc1856d48"
      },
      "source": [
        "data.describe()"
      ],
      "execution_count": null,
      "outputs": [
        {
          "output_type": "execute_result",
          "data": {
            "text/html": [
              "<div>\n",
              "<style scoped>\n",
              "    .dataframe tbody tr th:only-of-type {\n",
              "        vertical-align: middle;\n",
              "    }\n",
              "\n",
              "    .dataframe tbody tr th {\n",
              "        vertical-align: top;\n",
              "    }\n",
              "\n",
              "    .dataframe thead th {\n",
              "        text-align: right;\n",
              "    }\n",
              "</style>\n",
              "<table border=\"1\" class=\"dataframe\">\n",
              "  <thead>\n",
              "    <tr style=\"text-align: right;\">\n",
              "      <th></th>\n",
              "      <th>Hours</th>\n",
              "      <th>Scores</th>\n",
              "    </tr>\n",
              "  </thead>\n",
              "  <tbody>\n",
              "    <tr>\n",
              "      <th>count</th>\n",
              "      <td>25.000000</td>\n",
              "      <td>25.000000</td>\n",
              "    </tr>\n",
              "    <tr>\n",
              "      <th>mean</th>\n",
              "      <td>5.012000</td>\n",
              "      <td>51.480000</td>\n",
              "    </tr>\n",
              "    <tr>\n",
              "      <th>std</th>\n",
              "      <td>2.525094</td>\n",
              "      <td>25.286887</td>\n",
              "    </tr>\n",
              "    <tr>\n",
              "      <th>min</th>\n",
              "      <td>1.100000</td>\n",
              "      <td>17.000000</td>\n",
              "    </tr>\n",
              "    <tr>\n",
              "      <th>25%</th>\n",
              "      <td>2.700000</td>\n",
              "      <td>30.000000</td>\n",
              "    </tr>\n",
              "    <tr>\n",
              "      <th>50%</th>\n",
              "      <td>4.800000</td>\n",
              "      <td>47.000000</td>\n",
              "    </tr>\n",
              "    <tr>\n",
              "      <th>75%</th>\n",
              "      <td>7.400000</td>\n",
              "      <td>75.000000</td>\n",
              "    </tr>\n",
              "    <tr>\n",
              "      <th>max</th>\n",
              "      <td>9.200000</td>\n",
              "      <td>95.000000</td>\n",
              "    </tr>\n",
              "  </tbody>\n",
              "</table>\n",
              "</div>"
            ],
            "text/plain": [
              "           Hours     Scores\n",
              "count  25.000000  25.000000\n",
              "mean    5.012000  51.480000\n",
              "std     2.525094  25.286887\n",
              "min     1.100000  17.000000\n",
              "25%     2.700000  30.000000\n",
              "50%     4.800000  47.000000\n",
              "75%     7.400000  75.000000\n",
              "max     9.200000  95.000000"
            ]
          },
          "metadata": {},
          "execution_count": 14
        }
      ]
    },
    {
      "cell_type": "code",
      "metadata": {
        "colab": {
          "base_uri": "https://localhost:8080/",
          "height": 282
        },
        "id": "3Mjk_ocfaajd",
        "outputId": "5c39cab3-c9b1-4b0f-9f77-3de8257b4707"
      },
      "source": [
        "sns.heatmap(data.isnull(), cbar=False)"
      ],
      "execution_count": null,
      "outputs": [
        {
          "output_type": "execute_result",
          "data": {
            "text/plain": [
              "<matplotlib.axes._subplots.AxesSubplot at 0x7f7dcdc55150>"
            ]
          },
          "metadata": {},
          "execution_count": 17
        },
        {
          "output_type": "display_data",
          "data": {
            "image/png": "[encoded data removed]",
            "text/plain": [
              "<Figure size 432x288 with 1 Axes>"
            ]
          },
          "metadata": {
            "needs_background": "light"
          }
        }
      ]
    },
    {
      "cell_type": "markdown",
      "metadata": {
        "id": "WJXF9gVab-dK"
      },
      "source": [
        "**Observations:**\n",
        "There are no missing values in this dataset."
      ]
    },
    {
      "cell_type": "markdown",
      "metadata": {
        "id": "ShqnDgjocmvQ"
      },
      "source": [
        "**Outliers**\n",
        "\n",
        "Check the outliers in the data by plotting the boxplot"
      ]
    },
    {
      "cell_type": "code",
      "metadata": {
        "colab": {
          "base_uri": "https://localhost:8080/",
          "height": 282
        },
        "id": "iKUNI2hrb-u6",
        "outputId": "9277b1a8-c14c-4b9a-978f-26b08b8d0955"
      },
      "source": [
        "data.boxplot(['Scores'])"
      ],
      "execution_count": null,
      "outputs": [
        {
          "output_type": "execute_result",
          "data": {
            "text/plain": [
              "<matplotlib.axes._subplots.AxesSubplot at 0x7f7dc5b26a10>"
            ]
          },
          "metadata": {},
          "execution_count": 18
        },
        {
          "output_type": "display_data",
          "data": {
            "image/png": "[encoded data removed]",
            "text/plain": [
              "<Figure size 432x288 with 1 Axes>"
            ]
          },
          "metadata": {
            "needs_background": "light"
          }
        }
      ]
    },
    {
      "cell_type": "code",
      "metadata": {
        "colab": {
          "base_uri": "https://localhost:8080/",
          "height": 282
        },
        "id": "AfrzsyITdWLm",
        "outputId": "6c02016d-f31e-4db2-e2d1-c32af46c386e"
      },
      "source": [
        "data.boxplot(['Hours'])"
      ],
      "execution_count": null,
      "outputs": [
        {
          "output_type": "execute_result",
          "data": {
            "text/plain": [
              "<matplotlib.axes._subplots.AxesSubplot at 0x7f7dc56287d0>"
            ]
          },
          "metadata": {},
          "execution_count": 19
        },
        {
          "output_type": "display_data",
          "data": {
            "image/png": "[encoded data removed]",
            "text/plain": [
              "<Figure size 432x288 with 1 Axes>"
            ]
          },
          "metadata": {
            "needs_background": "light"
          }
        }
      ]
    },
    {
      "cell_type": "markdown",
      "metadata": {
        "id": "7Im-A8d3dbBO"
      },
      "source": [
        "**Observations**\n",
        "\n",
        "There are no major outliers to be consider"
      ]
    },
    {
      "cell_type": "markdown",
      "metadata": {
        "id": "FHZ9Xf7lxWFx"
      },
      "source": [
        "# Visualizing data"
      ]
    },
    {
      "cell_type": "code",
      "metadata": {
        "colab": {
          "base_uri": "https://localhost:8080/",
          "height": 388
        },
        "id": "hwpsFt9We_7y",
        "outputId": "fe5b13cc-720c-42c8-d8b3-0de0c6523fb7"
      },
      "source": [
        "fig,axes=plt.subplots(nrows=2,ncols=2)\n",
        "fig.set_size_inches(6,6)\n",
        "\n",
        "a=sns.distplot(data['Hours'], bins=10, ax=axes[0][0])\n",
        "a=sns.boxplot(data['Hours'], orient='v', ax=axes[0][1])\n",
        "\n",
        "a=sns.distplot(data['Scores'], bins=10, ax=axes[1][0])\n",
        "a=sns.boxplot(data['Scores'], orient='v', ax=axes[1][1])\n",
        "\n",
        "plt.show()"
      ],
      "execution_count": null,
      "outputs": [
        {
          "output_type": "display_data",
          "data": {
            "image/png": "[encoded data removed]",
            "text/plain": [
              "<Figure size 432x432 with 4 Axes>"
            ]
          },
          "metadata": {
            "needs_background": "light"
          }
        }
      ]
    },
    {
      "cell_type": "markdown",
      "metadata": {
        "id": "ftaKcmD3ful5"
      },
      "source": [
        "**Visualizing Target variable Distribution**"
      ]
    },
    {
      "cell_type": "code",
      "metadata": {
        "colab": {
          "base_uri": "https://localhost:8080/",
          "height": 279
        },
        "id": "RmP4jpZRfu_I",
        "outputId": "71b9c5ea-95ca-425f-dc6e-f9da7b3c62cd"
      },
      "source": [
        "sns.distplot(data['Scores'], bins=10)\n",
        "plt.show()"
      ],
      "execution_count": null,
      "outputs": [
        {
          "output_type": "display_data",
          "data": {
            "image/png": "[encoded data removed]",
            "text/plain": [
              "<Figure size 432x288 with 1 Axes>"
            ]
          },
          "metadata": {
            "needs_background": "light"
          }
        }
      ]
    },
    {
      "cell_type": "markdown",
      "metadata": {
        "id": "Ua2E8OkPf96o"
      },
      "source": [
        "**Observation**\n",
        "\n",
        "In the above histogram, we can observe that Scores, there it is almost normally distributed with skew in the positive side. \n",
        "\n",
        "---\n",
        "\n",
        "Hence, we can perform a **LINEAR REGRESSION** to predict the values\n",
        "\n",
        "---\n",
        "\n"
      ]
    },
    {
      "cell_type": "markdown",
      "metadata": {
        "id": "ebK1WVXWgYkf"
      },
      "source": [
        "Checking correlation with **Correlation Matrix**"
      ]
    },
    {
      "cell_type": "code",
      "metadata": {
        "colab": {
          "base_uri": "https://localhost:8080/",
          "height": 286
        },
        "id": "uuBej5d3f6Do",
        "outputId": "c7ccb417-bc96-4055-e7a1-c5e400ca4ba4"
      },
      "source": [
        "sns.heatmap(data.corr(),annot=True)"
      ],
      "execution_count": null,
      "outputs": [
        {
          "output_type": "execute_result",
          "data": {
            "text/plain": [
              "<matplotlib.axes._subplots.AxesSubplot at 0x7f7dc1cb8190>"
            ]
          },
          "metadata": {},
          "execution_count": 25
        },
        {
          "output_type": "display_data",
          "data": {
            "image/png": "[encoded data removed]",
            "text/plain": [
              "<Figure size 432x288 with 2 Axes>"
            ]
          },
          "metadata": {
            "needs_background": "light"
          }
        }
      ]
    },
    {
      "cell_type": "markdown",
      "metadata": {
        "id": "ganba68CgioX"
      },
      "source": [
        "**Observations**\n",
        "\n",
        "Hours and Scores are highly Positively correlated to each other"
      ]
    },
    {
      "cell_type": "markdown",
      "metadata": {
        "id": "sp0qK8KogkIe"
      },
      "source": [
        "**Visualizing Data with Scatter Plots**"
      ]
    },
    {
      "cell_type": "code",
      "metadata": {
        "colab": {
          "base_uri": "https://localhost:8080/",
          "height": 295
        },
        "id": "r8tnqs7vgsiW",
        "outputId": "e20a875d-bab8-4ad2-f1b4-36106881c94d"
      },
      "source": [
        "sns.scatterplot(data['Hours'],data['Scores'])\n",
        "plt.xlabel('Hours')\n",
        "plt.ylabel('Percentage Scores')\n",
        "plt.title('Hours Vs Percentage Scores')\n",
        "plt.show()"
      ],
      "execution_count": null,
      "outputs": [
        {
          "output_type": "display_data",
          "data": {
            "image/png": "[encoded data removed]",
            "text/plain": [
              "<Figure size 432x288 with 1 Axes>"
            ]
          },
          "metadata": {
            "needs_background": "light"
          }
        }
      ]
    },
    {
      "cell_type": "markdown",
      "metadata": {
        "id": "L6ViCf9FhSyN"
      },
      "source": [
        "**Observations**\n",
        "\n",
        "There is positive linear relationship between the number of hours studied and the scores obtained."
      ]
    },
    {
      "cell_type": "markdown",
      "metadata": {
        "id": "PRZbtyTRlbbz"
      },
      "source": [
        "**Linear Regression plot**"
      ]
    },
    {
      "cell_type": "code",
      "metadata": {
        "colab": {
          "base_uri": "https://localhost:8080/",
          "height": 295
        },
        "id": "MNk4g-Urlb0r",
        "outputId": "ac0af87a-6fc1-4eeb-afa3-7d9f27b6b98c"
      },
      "source": [
        "sns.regplot(data['Hours'],data['Scores'])\n",
        "plt.xlabel('Hours')\n",
        "plt.ylabel('Percentage Scores')\n",
        "plt.title('Hours Vs Percentage Scores')\n",
        "plt.show()"
      ],
      "execution_count": null,
      "outputs": [
        {
          "output_type": "display_data",
          "data": {
            "image/png": "[encoded data removed]",
            "text/plain": [
              "<Figure size 432x288 with 1 Axes>"
            ]
          },
          "metadata": {
            "needs_background": "light"
          }
        }
      ]
    },
    {
      "cell_type": "markdown",
      "metadata": {
        "id": "K8SpG8bbllpD"
      },
      "source": [
        "**Observation**\n",
        "\n",
        "From the Scatterplot & Regplot we can clearly see that there is positive relationship between hours & Scores"
      ]
    },
    {
      "cell_type": "markdown",
      "metadata": {
        "id": "k8dTLe_ZxjHy"
      },
      "source": [
        "# ML model"
      ]
    },
    {
      "cell_type": "markdown",
      "metadata": {
        "id": "WmAZTGu1hYxl"
      },
      "source": [
        "**Preparing the training data for Linear Regression**\n",
        "\n",
        "Independent variable = Number of hours studied\n",
        "\n",
        "Dependent variable = Scores obtained"
      ]
    },
    {
      "cell_type": "code",
      "metadata": {
        "id": "QfGgFmJDha5c"
      },
      "source": [
        "X = data.iloc[:, :-1].values  \n",
        "y = data.iloc[:, 1].values"
      ],
      "execution_count": null,
      "outputs": []
    },
    {
      "cell_type": "markdown",
      "metadata": {
        "id": "tlA-6tD1ly_K"
      },
      "source": [
        "**Splitting the dataset for training and testing**"
      ]
    },
    {
      "cell_type": "code",
      "metadata": {
        "colab": {
          "base_uri": "https://localhost:8080/"
        },
        "id": "tNUNEP8WlzUq",
        "outputId": "373dcafb-b17f-4e17-f8e7-e7deea6cd9f4"
      },
      "source": [
        "X_train, X_test, y_train, y_test = train_test_split(X, y, test_size = 0.2, random_state = 42)\n",
        "print(X_train.shape, X_test.shape, y_train.shape, y_test.shape)"
      ],
      "execution_count": null,
      "outputs": [
        {
          "output_type": "stream",
          "name": "stdout",
          "text": [
            "(20, 1) (5, 1) (20,) (5,)\n"
          ]
        }
      ]
    },
    {
      "cell_type": "code",
      "metadata": {
        "colab": {
          "base_uri": "https://localhost:8080/"
        },
        "id": "d6xyp6wsmebL",
        "outputId": "c823ca32-6d30-4b5c-a547-4ca67d8fb582"
      },
      "source": [
        "print(X_train.shape)\n",
        "print(y_train.shape)\n",
        "print(X_test.shape)\n",
        "print(y_test.shape)"
      ],
      "execution_count": null,
      "outputs": [
        {
          "output_type": "stream",
          "name": "stdout",
          "text": [
            "(20, 1)\n",
            "(20,)\n",
            "(5, 1)\n",
            "(5,)\n"
          ]
        }
      ]
    },
    {
      "cell_type": "markdown",
      "metadata": {
        "id": "NK2nRyUImpoB"
      },
      "source": [
        "**Model Building** **: Training Linear Regression Model**"
      ]
    },
    {
      "cell_type": "code",
      "metadata": {
        "colab": {
          "base_uri": "https://localhost:8080/"
        },
        "id": "DXoKVhDPnKTX",
        "outputId": "48ca825f-4f62-4f4d-ff9a-22e0f629f29d"
      },
      "source": [
        "data_reg = LinearRegression()\n",
        "data_reg.fit(X_train, y_train)"
      ],
      "execution_count": null,
      "outputs": [
        {
          "output_type": "execute_result",
          "data": {
            "text/plain": [
              "LinearRegression(copy_X=True, fit_intercept=True, n_jobs=None, normalize=False)"
            ]
          },
          "metadata": {},
          "execution_count": 43
        }
      ]
    },
    {
      "cell_type": "code",
      "metadata": {
        "colab": {
          "base_uri": "https://localhost:8080/"
        },
        "id": "SXQ5Q-RMnaU2",
        "outputId": "34705d01-651d-47fc-9310-165dcb8ea7c3"
      },
      "source": [
        "print(\"Training completed\")"
      ],
      "execution_count": null,
      "outputs": [
        {
          "output_type": "stream",
          "name": "stdout",
          "text": [
            "Training completed\n"
          ]
        }
      ]
    },
    {
      "cell_type": "markdown",
      "metadata": {
        "id": "qW2LrK16ocAe"
      },
      "source": [
        "**Predicting Scores**"
      ]
    },
    {
      "cell_type": "code",
      "metadata": {
        "colab": {
          "base_uri": "https://localhost:8080/"
        },
        "id": "HaPkW-XwocYJ",
        "outputId": "da88b415-87a1-4a3c-ace3-beb8a50c38df"
      },
      "source": [
        "y_pred = data_reg.predict(X_test)\n",
        "y_pred"
      ],
      "execution_count": null,
      "outputs": [
        {
          "output_type": "execute_result",
          "data": {
            "text/plain": [
              "array([83.18814104, 27.03208774, 27.03208774, 69.63323162, 59.95115347])"
            ]
          },
          "metadata": {},
          "execution_count": 47
        }
      ]
    },
    {
      "cell_type": "code",
      "metadata": {
        "colab": {
          "base_uri": "https://localhost:8080/",
          "height": 295
        },
        "id": "1mFeQUTcoppr",
        "outputId": "93c08d7a-7a8a-42c9-a17f-b9169c5c56e2"
      },
      "source": [
        "plt.scatter(X_test,y_test)\n",
        "plt.plot(X_test, y_pred)\n",
        "plt.xlabel('Hours')\n",
        "plt.ylabel('Percentage Scores')\n",
        "plt.title('Actual Vs Predicted')\n",
        "plt.show()"
      ],
      "execution_count": null,
      "outputs": [
        {
          "output_type": "display_data",
          "data": {
            "image/png": "[encoded data removed]",
            "text/plain": [
              "<Figure size 432x288 with 1 Axes>"
            ]
          },
          "metadata": {
            "needs_background": "light"
          }
        }
      ]
    },
    {
      "cell_type": "markdown",
      "metadata": {
        "id": "tOysvttXpGLV"
      },
      "source": [
        "**Evaluating Train and Test scores**"
      ]
    },
    {
      "cell_type": "code",
      "metadata": {
        "colab": {
          "base_uri": "https://localhost:8080/"
        },
        "id": "_Di-SbdIpGoK",
        "outputId": "040f7de6-20ed-41f4-e98c-18e574a4d6a3"
      },
      "source": [
        "print('Training Score : ', data_reg.score(X_train, y_train))\n",
        "print('Test Score : ', data_reg.score(X_test, y_test))"
      ],
      "execution_count": null,
      "outputs": [
        {
          "output_type": "stream",
          "name": "stdout",
          "text": [
            "Training Score :  0.9491209376364417\n",
            "Test Score :  0.9678055545167994\n"
          ]
        }
      ]
    },
    {
      "cell_type": "markdown",
      "metadata": {
        "id": "fJrQYRf_pStz"
      },
      "source": [
        "**Comparing Actual Score and Predicted Score**"
      ]
    },
    {
      "cell_type": "code",
      "metadata": {
        "colab": {
          "base_uri": "https://localhost:8080/",
          "height": 204
        },
        "id": "gDSsGtD0pS-K",
        "outputId": "81c36de2-7ee3-4467-f054-5280e6e2b5f6"
      },
      "source": [
        "output = pd.DataFrame({'Actual Score': y_test,'Predicted Score': y_pred, 'Residual':y_test-y_pred })\n",
        "output.head()"
      ],
      "execution_count": null,
      "outputs": [
        {
          "output_type": "execute_result",
          "data": {
            "text/html": [
              "<div>\n",
              "<style scoped>\n",
              "    .dataframe tbody tr th:only-of-type {\n",
              "        vertical-align: middle;\n",
              "    }\n",
              "\n",
              "    .dataframe tbody tr th {\n",
              "        vertical-align: top;\n",
              "    }\n",
              "\n",
              "    .dataframe thead th {\n",
              "        text-align: right;\n",
              "    }\n",
              "</style>\n",
              "<table border=\"1\" class=\"dataframe\">\n",
              "  <thead>\n",
              "    <tr style=\"text-align: right;\">\n",
              "      <th></th>\n",
              "      <th>Actual Score</th>\n",
              "      <th>Predicted Score</th>\n",
              "      <th>Residual</th>\n",
              "    </tr>\n",
              "  </thead>\n",
              "  <tbody>\n",
              "    <tr>\n",
              "      <th>0</th>\n",
              "      <td>81</td>\n",
              "      <td>83.188141</td>\n",
              "      <td>-2.188141</td>\n",
              "    </tr>\n",
              "    <tr>\n",
              "      <th>1</th>\n",
              "      <td>30</td>\n",
              "      <td>27.032088</td>\n",
              "      <td>2.967912</td>\n",
              "    </tr>\n",
              "    <tr>\n",
              "      <th>2</th>\n",
              "      <td>21</td>\n",
              "      <td>27.032088</td>\n",
              "      <td>-6.032088</td>\n",
              "    </tr>\n",
              "    <tr>\n",
              "      <th>3</th>\n",
              "      <td>76</td>\n",
              "      <td>69.633232</td>\n",
              "      <td>6.366768</td>\n",
              "    </tr>\n",
              "    <tr>\n",
              "      <th>4</th>\n",
              "      <td>62</td>\n",
              "      <td>59.951153</td>\n",
              "      <td>2.048847</td>\n",
              "    </tr>\n",
              "  </tbody>\n",
              "</table>\n",
              "</div>"
            ],
            "text/plain": [
              "   Actual Score  Predicted Score  Residual\n",
              "0            81        83.188141 -2.188141\n",
              "1            30        27.032088  2.967912\n",
              "2            21        27.032088 -6.032088\n",
              "3            76        69.633232  6.366768\n",
              "4            62        59.951153  2.048847"
            ]
          },
          "metadata": {},
          "execution_count": 55
        }
      ]
    },
    {
      "cell_type": "markdown",
      "metadata": {
        "id": "YEPP73k-pqYJ"
      },
      "source": [
        "**To visualize the differences between actual scores and predicted scores, a scatter plot is created**"
      ]
    },
    {
      "cell_type": "markdown",
      "metadata": {
        "id": "Nwh-tAn5qGrw"
      },
      "source": [
        "**(a) Training data Scores vs Predicted Scores**"
      ]
    },
    {
      "cell_type": "code",
      "metadata": {
        "colab": {
          "base_uri": "https://localhost:8080/",
          "height": 295
        },
        "id": "9X5wv2pWp_-4",
        "outputId": "06aeb547-d16d-4e14-eff8-9598a4f4e6c5"
      },
      "source": [
        "plt.scatter(X_train, y_train, color = 'green')\n",
        "plt.plot(X_train, data_reg.predict(X_train), color = 'red')\n",
        "plt.title('Hours vs Scores')\n",
        "plt.xlabel('Hours')\n",
        "plt.ylabel('Scores')\n",
        "plt.show()"
      ],
      "execution_count": null,
      "outputs": [
        {
          "output_type": "display_data",
          "data": {
            "image/png": "[encoded data removed]",
            "text/plain": [
              "<Figure size 432x288 with 1 Axes>"
            ]
          },
          "metadata": {
            "needs_background": "light"
          }
        }
      ]
    },
    {
      "cell_type": "markdown",
      "metadata": {
        "id": "i7zcKqfcqVN6"
      },
      "source": [
        "**(b) Testing data Scores vs Predicted Scores**"
      ]
    },
    {
      "cell_type": "code",
      "metadata": {
        "colab": {
          "base_uri": "https://localhost:8080/",
          "height": 295
        },
        "id": "CWkuCPJeqVh3",
        "outputId": "65e41420-ab41-4715-edc2-4a991f02c4c5"
      },
      "source": [
        "X=y_test\n",
        "y=y_pred\n",
        "plt.scatter(X, y)\n",
        "plt.xlabel(\"Actual Scores: Y\")\n",
        "plt.ylabel(\"Predicted scores: Y^\")\n",
        "plt.title(\"Actual Scores vs Predicted Scores\")\n",
        "# Plotting the Best fit line\n",
        "\n",
        "z = np.polyfit(X, y, 1)\n",
        "p = np.poly1d(z)\n",
        "plt.plot(X,p(X),\"r--\")\n",
        "plt.show()"
      ],
      "execution_count": null,
      "outputs": [
        {
          "output_type": "display_data",
          "data": {
            "image/png": "[encoded data removed]",
            "text/plain": [
              "<Figure size 432x288 with 1 Axes>"
            ]
          },
          "metadata": {
            "needs_background": "light"
          }
        }
      ]
    },
    {
      "cell_type": "markdown",
      "metadata": {
        "id": "0-Vtf5DvqtKp"
      },
      "source": [
        "**Model Evaluation (Actual Vs Predicted) on test sample**"
      ]
    },
    {
      "cell_type": "markdown",
      "metadata": {
        "id": "gdd1gZMgq9X2"
      },
      "source": [
        "Model evaluation using error metrics like :\n",
        "\n",
        "* Mean_absolute_error\n",
        "\n",
        "* Mean_squared_error\n",
        "\n",
        "* R2_score, T-test\n",
        "\n",
        "* F-Test"
      ]
    },
    {
      "cell_type": "markdown",
      "metadata": {
        "id": "Q5EbtMr5reZc"
      },
      "source": [
        "**Mean Absolute Error**"
      ]
    },
    {
      "cell_type": "code",
      "metadata": {
        "colab": {
          "base_uri": "https://localhost:8080/"
        },
        "id": "b5kU8t56qtgX",
        "outputId": "49925343-843d-46ba-aa31-d5d62063a6f2"
      },
      "source": [
        "print('Mean absolute error : ', metrics.mean_absolute_error(y_test, y_pred))"
      ],
      "execution_count": null,
      "outputs": [
        {
          "output_type": "stream",
          "name": "stdout",
          "text": [
            "Mean absolute error :  3.9207511902099244\n"
          ]
        }
      ]
    },
    {
      "cell_type": "markdown",
      "metadata": {
        "id": "fHyY9zzvrmod"
      },
      "source": [
        "**Root Mean Square Error**"
      ]
    },
    {
      "cell_type": "code",
      "metadata": {
        "colab": {
          "base_uri": "https://localhost:8080/"
        },
        "id": "O0J4UEEOroZt",
        "outputId": "3ecb4e5d-882f-4c1e-b163-ef3012509cc8"
      },
      "source": [
        "print('Root mean square error : ', np.sqrt(metrics.mean_squared_error(y_test, y_pred)))"
      ],
      "execution_count": null,
      "outputs": [
        {
          "output_type": "stream",
          "name": "stdout",
          "text": [
            "Root mean square error :  4.352380006653288\n"
          ]
        }
      ]
    },
    {
      "cell_type": "markdown",
      "metadata": {
        "id": "uodafu9frrLt"
      },
      "source": [
        "**Goodness of Fit- R2**"
      ]
    },
    {
      "cell_type": "code",
      "metadata": {
        "colab": {
          "base_uri": "https://localhost:8080/"
        },
        "id": "ZG_DLdktrrce",
        "outputId": "4fb544ae-99b0-4ae6-9670-53efa859020d"
      },
      "source": [
        "metrics.r2_score(y_test,y_pred)"
      ],
      "execution_count": null,
      "outputs": [
        {
          "output_type": "execute_result",
          "data": {
            "text/plain": [
              "0.9678055545167994"
            ]
          },
          "metadata": {},
          "execution_count": 64
        }
      ]
    },
    {
      "cell_type": "markdown",
      "metadata": {
        "id": "tuRtQXYCr1y9"
      },
      "source": [
        "**Observations**\n",
        "\n",
        "Model is performing good in linear model as less MAE and good R-Square value"
      ]
    },
    {
      "cell_type": "markdown",
      "metadata": {
        "id": "ONKCfxDKsKmz"
      },
      "source": [
        "**T-test**"
      ]
    },
    {
      "cell_type": "code",
      "metadata": {
        "colab": {
          "base_uri": "https://localhost:8080/"
        },
        "id": "ZY8loZHhr2WT",
        "outputId": "1131355b-55e0-4bf8-c7d5-57e103f7ee27"
      },
      "source": [
        "from scipy import stats\n",
        "t_statistic, pvalues =stats.ttest_ind(y_test, y_pred)\n",
        "print('t-statistic -->',t_statistic)\n",
        "print('P-value -->',pvalues)"
      ],
      "execution_count": null,
      "outputs": [
        {
          "output_type": "stream",
          "name": "stdout",
          "text": [
            "t-statistic --> 0.03805993508569981\n",
            "P-value --> 0.9705725131570524\n"
          ]
        }
      ]
    },
    {
      "cell_type": "markdown",
      "metadata": {
        "id": "QVDo-m0ksWyz"
      },
      "source": [
        "**Observations:**\n",
        "\n",
        "95% of p-value suggest that the difference between mean of Actual and the Predicted values is close to zero"
      ]
    },
    {
      "cell_type": "markdown",
      "metadata": {
        "id": "hc8AQl4aslMK"
      },
      "source": [
        "**F-Test**"
      ]
    },
    {
      "cell_type": "code",
      "metadata": {
        "colab": {
          "base_uri": "https://localhost:8080/"
        },
        "id": "Oiz4AnnIsXL_",
        "outputId": "23096bd0-21ca-4b72-f7d5-87bb10eb832d"
      },
      "source": [
        "f_statistic, pvalues =stats.f_oneway(y_test, y_pred)\n",
        "print('f-statistic -->',f_statistic)\n",
        "print('P-value -->',pvalues)"
      ],
      "execution_count": null,
      "outputs": [
        {
          "output_type": "stream",
          "name": "stdout",
          "text": [
            "f-statistic --> 0.0014485586587276772\n",
            "P-value --> 0.970572513157049\n"
          ]
        }
      ]
    },
    {
      "cell_type": "markdown",
      "metadata": {
        "id": "cRR2HooRsswC"
      },
      "source": [
        "**Observations:**\n",
        "\n",
        "F-statistic suggest that the variance of error is random and is in acceptable range with 95% confidance interval"
      ]
    },
    {
      "cell_type": "markdown",
      "metadata": {
        "id": "3LUB2olls0YC"
      },
      "source": [
        "**Summary**"
      ]
    },
    {
      "cell_type": "markdown",
      "metadata": {
        "id": "48JHvx3rs4ii"
      },
      "source": [
        "* The output of linear regression at 95% confident level have 1 model variable. The model on train dataset have good R2 value suggest the goodness of fit.This is futher tested on the test sample.\n",
        "\n",
        "* In test sample R-square ,T-test, F-test were performed to measure the model performance in terms of goodness of fit & randomness of variance between actual and the predicted values.\n",
        "\n",
        "* In summary ,the model goodness of fit on train sample and performance of model on test sample are in acceptable range. The final model parameters are tabled below"
      ]
    },
    {
      "cell_type": "markdown",
      "metadata": {
        "id": "jYtc3ZkEtB4h"
      },
      "source": [
        "**What will be predicted score if a student study for 9.25 hrs in a day?**"
      ]
    },
    {
      "cell_type": "code",
      "metadata": {
        "id": "_vSekkNduSAX"
      },
      "source": [
        "def ch(x):\n",
        "        l=lr.predict([[float(x)]])\n",
        "        print('If student studies for {} hours/day then student will score {}'.format(x,*l))"
      ],
      "execution_count": null,
      "outputs": []
    },
    {
      "cell_type": "code",
      "metadata": {
        "colab": {
          "base_uri": "https://localhost:8080/"
        },
        "id": "WmKNOVWlud2d",
        "outputId": "78f3cab1-53e7-4fa3-80ae-4ec41bac62b3"
      },
      "source": [
        "ch(9.25)"
      ],
      "execution_count": null,
      "outputs": [
        {
          "output_type": "stream",
          "name": "stdout",
          "text": [
            "If student studies for 9.25 hours/day than student will score 92.38611528261494\n"
          ]
        }
      ]
    },
    {
      "cell_type": "markdown",
      "metadata": {
        "id": "0YhJtrLPvoVS"
      },
      "source": [
        "**Conclusion**\n",
        "\n",
        "We got predicted the score around 92 based on the study hours i.e., 9.25 hrs/day"
      ]
    }
  ]
}